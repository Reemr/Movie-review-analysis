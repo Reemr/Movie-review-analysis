{
 "cells": [
  {
   "cell_type": "code",
   "execution_count": 1,
   "metadata": {},
   "outputs": [],
   "source": [
    "import requests\n",
    "from bs4 import BeautifulSoup\n",
    "from urllib.parse import urljoin"
   ]
  },
  {
   "cell_type": "code",
   "execution_count": 2,
   "metadata": {},
   "outputs": [],
   "source": [
    "#create a list to collect reviews\n",
    "reviews = []\n",
    "#url of the imdb user review page\n",
    "url = 'https://www.imdb.com/title/tt1217209/reviews?ref_=tt_ov_rt'\n",
    "r = requests.get(url)\n",
    "soup = BeautifulSoup(r.text, 'html.parser')\n",
    "\n",
    "#loop through the reviews in the page\n",
    "for i in soup.select(\".review-container\"):\n",
    "    review = i.select(\".text\")[0].text\n",
    "    reviews.append(review)"
   ]
  },
  {
   "cell_type": "markdown",
   "metadata": {},
   "source": [
    "The number of the reviews in the webpage is 25. To get all the 466 reviews we need to click the \"load more\" button each time we want more reviews. \n",
    "\n",
    "I checked the process of getting the next 25 reviews rach time I click the \"load more\" button. To go to the next page, each page has unique data key so I created the following script to collect all the reviews in each page:"
   ]
  },
  {
   "cell_type": "code",
   "execution_count": 3,
   "metadata": {},
   "outputs": [
    {
     "name": "stdout",
     "output_type": "stream",
     "text": [
      "1 kdo2edtpuvxi642oieg6uhc4d5h5n2ijpivpikeww4kg4ysgtgu4is6lgwed57onufluxkfcbxyiy\n",
      "2 7y3xf6qoqyufj5jzivumsmmb6ehstmu43p7o25hiadbyprwnz3ljegs2csttnahcoztlntey4qige\n",
      "3 awljw77ru6f625wlhggi4tsw5jncwzixxpa4nlr672u7anmmv3er22kso24ko3hgnapwhwqvizlpe\n",
      "4 njp3e2mcsmceihqzmbsagvziu32lhqyahpct5z6qffohgt2cu35xg3ny7mctpc3sosfgqovw2xqew\n",
      "5 6njzjqg2mlh5ybhlbpdsrddjhxjai6if3zafxpswkwcf4gvxfpsi4l7je673cxwccmc5o6c3kio7y\n",
      "6 3qkxa6j6axjmlfi7awhzxigplinw7dmqbh2wt5owq4jbrn5wp46n6jh7gzqs2uynlxnwhwboh3ie6\n",
      "7 f4vsaklaud5bfskdzalsk2b5vougkj7q47zqn2uuqtktyxlyc5gx4s6e74bojbapheclnsz3n6eg6\n",
      "8 crj2n3fylqehz3p2xdyj76rszychkw46yt6o2doe5hijemcspgbaghj7u2lpcz7fumvtnvhfrrzle\n",
      "9 rd3aonypsjmueu7jgusszxyeet2ztkzih2bx3rxp6jit2ememddkyy4ny2fjzca62x3xkiqhga5fg\n",
      "10 xg3dl37jc3pp57flmlm54hdd2a5nnpgmputc65y2bgdxdpw2hb3a\n",
      "11 yrw5uumbbg5ojdgby4jpiusmto7plij4pvm4jss6fffunap3mmup66l237ppux7ksgirr7ygrbrki\n",
      "12 hcjq3kdifr5ocgd44ejpirm3mcqnbnf22prj2465byygdutytmz2a7dszhcql6wpnrikxfq3p62x2\n",
      "13 hcjq3kdifr5ocgd44ejpirm3mcqnbnf22prj2465byygdutytmzwftwe2braafwhtzzs5axws534s\n",
      "14 2e23ny5brzwmnavhnfujctbeyeqakiajaukg2f47naiu7vdelw645ur42dynqlf76lzovbsbyodtc\n",
      "15 3qwk2rpv3a2klqbaq5oxdvfi6y63gcjyyes2kx7mph7cswx7gjufk5mz5dlmban2kpxnz3phxjauq\n",
      "16 lrg45nt35megmizbhdvzcrbg7hd5w7jzf32tl4ow3fzbyfttq6uq\n",
      "17 lrg45nt35megmizbhdvzcrbg7gbqjbbda75n3dg7thoapgzk2qsq\n",
      "18 lrg45nt35megmizbhdvzcrbg7gatiwknyilp6anyar3b7ien6hva\n"
     ]
    }
   ],
   "source": [
    "#initializing \n",
    "data_key = '1'\n",
    "c = 0\n",
    "\n",
    "#set up the url for the page containing the reviews\n",
    "data_ajaxurl = urljoin(url,soup.select(\".load-more-data\")[0]['data-ajaxurl'])  ##extracting the link leading to the page containing everything available here\n",
    "\n",
    "while data_key:\n",
    "    #if there is a \"load more\" button\n",
    "    if soup.select(\".load-more-data\"):\n",
    "        data_key = soup.select(\".load-more-data\")[0]['data-key'] #get the data-key\n",
    "        ref = \"?ref_=undefined&paginationKey=\" #constant variale needs to be in url\n",
    "        content = data_ajaxurl + ref + data_key #create the page url\n",
    "        response = requests.get(content)\n",
    "        soup = BeautifulSoup(response.text,\"html.parser\")\n",
    "        \n",
    "        #get the reviews in the page\n",
    "        for item in soup.select(\".review-container\"):\n",
    "            review = item.select(\".text\")[0].text\n",
    "            reviews.append(review)\n",
    "\n",
    "        c+=1\n",
    "        print(c, data_key)\n",
    "    else:\n",
    "        break"
   ]
  },
  {
   "cell_type": "code",
   "execution_count": null,
   "metadata": {},
   "outputs": [],
   "source": [
    "#save the collected data in txt file\n",
    "with open('brave_imdb_user_reviews.txt', 'w', encoding='utf-8') as f:\n",
    "    for item in reviews:\n",
    "        f.write(\"%s\\n\" % item)"
   ]
  }
 ],
 "metadata": {
  "kernelspec": {
   "display_name": "Python 3",
   "language": "python",
   "name": "python3"
  },
  "language_info": {
   "codemirror_mode": {
    "name": "ipython",
    "version": 3
   },
   "file_extension": ".py",
   "mimetype": "text/x-python",
   "name": "python",
   "nbconvert_exporter": "python",
   "pygments_lexer": "ipython3",
   "version": "3.6.8"
  }
 },
 "nbformat": 4,
 "nbformat_minor": 2
}
